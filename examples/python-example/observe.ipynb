{
 "cells": [
  {
   "cell_type": "markdown",
   "metadata": {},
   "source": [
    "# Observer/Observable in Python\n",
    "\n",
    "Here is a quick example of the Observer/Observable pattern in python. We use a simple model object to hold data that is to be rendered by a plot object. As the data in the model is changed, we want to notify the plot without the model knowing any details (i.e. not having a direct dependency) about the plot/graph."
   ]
  },
  {
   "cell_type": "markdown",
   "metadata": {},
   "source": [
    "## Start with the Observable\n",
    "\n",
    "Start with a base class, Observable. Anything that inherits from this class can be \"observed\". Essentially, this base class will hold a list of observers and manage registering and unregistering observers. Leveraging [Giant Flying Saucer](http://www.giantflyingsaucer.com/blog/?p=5117) example."
   ]
  },
  {
   "cell_type": "code",
   "execution_count": 106,
   "metadata": {
    "collapsed": true
   },
   "outputs": [],
   "source": [
    "class Observable:\n",
    "    \"\"\" Extend this class to be observable. \"\"\"\n",
    "\n",
    "    def __init__(self):\n",
    "        self.observers = []\n",
    "\n",
    "    def register(self, observer):\n",
    "        if not observer in self.observers:\n",
    "            self.observers.append(observer)\n",
    " \n",
    "    def unregister(self, observer):\n",
    "        if observer in self.observers:\n",
    "            self.observers.remove(observer)\n",
    " \n",
    "    def unregister_all(self):\n",
    "        if self.observers:\n",
    "            del self.observers[:]\n",
    " \n",
    "    def update_observers(self, *args):\n",
    "        \"\"\" Walk through the list of observers and call their update method. \"\"\"\n",
    "        for observer in self.observers:\n",
    "            # Any observer must have this update method, see observer interface below.\n",
    "            observer.update(*args)\n"
   ]
  },
  {
   "cell_type": "markdown",
   "metadata": {},
   "source": [
    "## An observable 'Model'\n",
    "\n",
    "We are creating a very simple class to hold x and y data. We added a convenience method to provide more control over when we actually update our observers."
   ]
  },
  {
   "cell_type": "code",
   "execution_count": 107,
   "metadata": {
    "collapsed": true
   },
   "outputs": [],
   "source": [
    "class Model(Observable):\n",
    "    \"\"\" A class to hold a 2D matrix of data. \"\"\"\n",
    "\n",
    "    def __init__(self,name):\n",
    "        self.name = name\n",
    "        self.x = []\n",
    "        self.y = []\n",
    "        super(Model,self).__init__()\n",
    "\n",
    "    def _notify(self):\n",
    "        \"\"\" Ensure the dimensions are of equal length before notifying observers. \"\"\"\n",
    "        if len(self.x) == len(self.y):\n",
    "            self.update_observers(self.__dict__)\n",
    "        \n",
    "    def set_x(self,x_vals):\n",
    "        self.x = x_vals\n",
    "        self._notify()\n",
    "\n",
    "    def set_y(self,y_vals):\n",
    "        self.y = y_vals\n",
    "        self._notify()\n",
    "    "
   ]
  },
  {
   "cell_type": "markdown",
   "metadata": {},
   "source": [
    "## The Observer\n",
    "\n",
    "The base class for Observer is very simple. In Java, it would be an interface. We are using Python's Abstract Base Class with the abstract method (pretty much equivalent to a Java Interface). To observe an observable, all you need to do is implement the update method!"
   ]
  },
  {
   "cell_type": "code",
   "execution_count": 108,
   "metadata": {
    "collapsed": true
   },
   "outputs": [],
   "source": [
    "from abc import ABCMeta, abstractmethod\n",
    " \n",
    "class Observer(object):\n",
    "    __metaclass__ = ABCMeta\n",
    " \n",
    "    @abstractmethod\n",
    "    def update(self,*args):\n",
    "        \"\"\" Can take an arbitrary list of arguments. \"\"\"\n",
    "        pass\n"
   ]
  },
  {
   "cell_type": "markdown",
   "metadata": {},
   "source": [
    "For this example, we just have one observer (can certainly have more than one) that is a plot object."
   ]
  },
  {
   "cell_type": "code",
   "execution_count": 109,
   "metadata": {},
   "outputs": [],
   "source": [
    "import matplotlib.pyplot as pyplot\n",
    "\n",
    "class Plot(Observer):\n",
    "    \n",
    "    # Just rotating through colors to help differentiate plots\n",
    "    colors = ['black','blue','green','red']\n",
    "    \n",
    "    def __init__(self):\n",
    "        self.color = -1\n",
    "        \n",
    "    def _color(self):\n",
    "        \"\"\" Just work through set of colors \"\"\"\n",
    "        color_indx = len(self.colors)-1\n",
    "        self.color += 1 if self.color < color_indx else -color_indx\n",
    "        return self.colors[self.color]\n",
    "        \n",
    "    \n",
    "    def update(self,*args):\n",
    "        pyplot.plot(args[0]['x'],args[0]['y'],self._color())\n",
    "        pyplot.show()"
   ]
  },
  {
   "cell_type": "markdown",
   "metadata": {},
   "source": [
    "So, now we'll use our classes by creating a model instance, registering an observer, and setting the data."
   ]
  },
  {
   "cell_type": "code",
   "execution_count": 110,
   "metadata": {},
   "outputs": [
    {
     "data": {
      "image/png": "[encoded data removed]",
      "text/plain": [
       "<matplotlib.figure.Figure at 0x110f87898>"
      ]
     },
     "metadata": {},
     "output_type": "display_data"
    }
   ],
   "source": [
    "# An Observable instance\n",
    "m = Model('2D Graph')\n",
    "# An Observer instance\n",
    "p = Plot()\n",
    "# Hook them together\n",
    "m.register(p)\n",
    "\n",
    "# Now set the data on observable object, just creating a list from 0 to 13 \n",
    "m.set_x(range(14))\n",
    "\n",
    "# Because we ensure the x dimension and y dimension match, the observer isn't notified until y is set.\n",
    "m.set_y(range(14))\n"
   ]
  },
  {
   "cell_type": "markdown",
   "metadata": {},
   "source": [
    "Okay, so, now let's assign y to the first 13 numbers in the fibonacci sequence. Notice, as soon as y is set, the plot is updated. There is no code in this fragment to explicitly re-draw the plot!"
   ]
  },
  {
   "cell_type": "code",
   "execution_count": 111,
   "metadata": {},
   "outputs": [
    {
     "name": "stdout",
     "output_type": "stream",
     "text": [
      "[0, 1, 1, 2, 3, 5, 8, 13, 21, 34, 55, 89, 144, 233]\n"
     ]
    },
    {
     "data": {
      "image/png": "[encoded data removed]",
      "text/plain": [
       "<matplotlib.figure.Figure at 0x1115c50f0>"
      ]
     },
     "metadata": {},
     "output_type": "display_data"
    }
   ],
   "source": [
    "y = [0,1]\n",
    "for i in range(12):\n",
    "    y.append(y[i]+y[i+1])\n",
    "print(y)\n",
    "    \n",
    "m.set_y(y)"
   ]
  },
  {
   "cell_type": "code",
   "execution_count": 112,
   "metadata": {},
   "outputs": [
    {
     "data": {
      "image/png": "[encoded data removed]",
      "text/plain": [
       "<matplotlib.figure.Figure at 0x1115d6da0>"
      ]
     },
     "metadata": {},
     "output_type": "display_data"
    }
   ],
   "source": [
    "# Change y data to be a quadratic \n",
    "m.set_y([x**2 for x in range(14)])"
   ]
  },
  {
   "cell_type": "code",
   "execution_count": 113,
   "metadata": {},
   "outputs": [
    {
     "data": {
      "image/png": "[encoded data removed]",
      "text/plain": [
       "<matplotlib.figure.Figure at 0x11132fcf8>"
      ]
     },
     "metadata": {},
     "output_type": "display_data"
    }
   ],
   "source": [
    "# And for fun, let's go exponential. And our pattern is really paying off now, graphs are redrawn as soon\n",
    "# as y is set because the observers are notified.\n",
    "m.set_y([2**x for x in range(14)])"
   ]
  },
  {
   "cell_type": "markdown",
   "metadata": {},
   "source": [
    "So, we have appropriate coupling and cohesion here. The data doesn't have to know any details about plotting. Models and users of models don't need to depend on graphing details. And the plots need only observe anything that has 2D data to provide a simple graph. They don't need to directly depend on how a model is built or the data calculated, they simply respond to updates to update their view of that data."
   ]
  }
 ],
 "metadata": {
  "kernelspec": {
   "display_name": "Python 3",
   "language": "python",
   "name": "python3"
  },
  "language_info": {
   "codemirror_mode": {
    "name": "ipython",
    "version": 3
   },
   "file_extension": ".py",
   "mimetype": "text/x-python",
   "name": "python",
   "nbconvert_exporter": "python",
   "pygments_lexer": "ipython3",
   "version": "3.6.3"
  }
 },
 "nbformat": 4,
 "nbformat_minor": 2
}
